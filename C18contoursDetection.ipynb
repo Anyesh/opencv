{
 "cells": [
  {
   "cell_type": "code",
   "execution_count": 30,
   "metadata": {},
   "outputs": [],
   "source": [
    "import cv2\n",
    "import numpy as np"
   ]
  },
  {
   "cell_type": "code",
   "execution_count": 31,
   "metadata": {},
   "outputs": [],
   "source": [
    "import matplotlib.pyplot as plt"
   ]
  },
  {
   "cell_type": "code",
   "execution_count": 32,
   "metadata": {},
   "outputs": [],
   "source": [
    "img = cv2.imread('imgs/pizza.png',0)"
   ]
  },
  {
   "cell_type": "code",
   "execution_count": 35,
   "metadata": {},
   "outputs": [
    {
     "data": {
      "text/plain": [
       "<matplotlib.image.AxesImage at 0x7fb128167898>"
      ]
     },
     "execution_count": 35,
     "metadata": {},
     "output_type": "execute_result"
    },
    {
     "data": {
      "image/png": "[encoded data removed]",
      "text/plain": [
       "<Figure size 432x288 with 1 Axes>"
      ]
     },
     "metadata": {
      "needs_background": "light"
     },
     "output_type": "display_data"
    }
   ],
   "source": [
    "plt.imshow(img,cmap='gray')"
   ]
  },
  {
   "cell_type": "code",
   "execution_count": 36,
   "metadata": {},
   "outputs": [],
   "source": [
    "img = cv2.bitwise_not(img)"
   ]
  },
  {
   "cell_type": "code",
   "execution_count": 38,
   "metadata": {},
   "outputs": [
    {
     "data": {
      "text/plain": [
       "<matplotlib.image.AxesImage at 0x7fb1280f06d8>"
      ]
     },
     "execution_count": 38,
     "metadata": {},
     "output_type": "execute_result"
    },
    {
     "data": {
      "image/png": "[encoded data removed]",
      "text/plain": [
       "<Figure size 432x288 with 1 Axes>"
      ]
     },
     "metadata": {
      "needs_background": "light"
     },
     "output_type": "display_data"
    }
   ],
   "source": [
    "plt.imshow(img,cmap='gray')"
   ]
  },
  {
   "cell_type": "markdown",
   "metadata": {},
   "source": [
    "Contour detection is a process in which cv2 will find the images that are bound with background and the images which are bound with foreground"
   ]
  },
  {
   "cell_type": "code",
   "execution_count": 39,
   "metadata": {},
   "outputs": [],
   "source": [
    "contours, hierarchy = cv2.findContours(img,cv2.RETR_CCOMP,cv2.CHAIN_APPROX_SIMPLE)"
   ]
  },
  {
   "cell_type": "code",
   "execution_count": 40,
   "metadata": {},
   "outputs": [
    {
     "data": {
      "text/plain": [
       "43"
      ]
     },
     "execution_count": 40,
     "metadata": {},
     "output_type": "execute_result"
    }
   ],
   "source": [
    "len(contours)"
   ]
  },
  {
   "cell_type": "code",
   "execution_count": 41,
   "metadata": {},
   "outputs": [
    {
     "data": {
      "text/plain": [
       "1"
      ]
     },
     "execution_count": 41,
     "metadata": {},
     "output_type": "execute_result"
    }
   ],
   "source": [
    "len(hierarchy)"
   ]
  },
  {
   "cell_type": "code",
   "execution_count": 42,
   "metadata": {},
   "outputs": [
    {
     "data": {
      "text/plain": [
       "array([[[ 1, -1, -1, -1],\n",
       "        [ 2,  0, -1, -1],\n",
       "        [ 7,  1,  3, -1],\n",
       "        [ 4, -1, -1,  2],\n",
       "        [ 5,  3, -1,  2],\n",
       "        [ 6,  4, -1,  2],\n",
       "        [-1,  5, -1,  2],\n",
       "        [13,  2,  8, -1],\n",
       "        [ 9, -1, -1,  7],\n",
       "        [10,  8, -1,  7],\n",
       "        [11,  9, -1,  7],\n",
       "        [12, 10, -1,  7],\n",
       "        [-1, 11, -1,  7],\n",
       "        [20,  7, 14, -1],\n",
       "        [15, -1, -1, 13],\n",
       "        [16, 14, -1, 13],\n",
       "        [17, 15, -1, 13],\n",
       "        [18, 16, -1, 13],\n",
       "        [19, 17, -1, 13],\n",
       "        [-1, 18, -1, 13],\n",
       "        [26, 13, 21, -1],\n",
       "        [22, -1, -1, 20],\n",
       "        [23, 21, -1, 20],\n",
       "        [24, 22, -1, 20],\n",
       "        [25, 23, -1, 20],\n",
       "        [-1, 24, -1, 20],\n",
       "        [27, 20, -1, -1],\n",
       "        [28, 26, -1, -1],\n",
       "        [33, 27, 29, -1],\n",
       "        [30, -1, -1, 28],\n",
       "        [31, 29, -1, 28],\n",
       "        [32, 30, -1, 28],\n",
       "        [-1, 31, -1, 28],\n",
       "        [41, 28, 34, -1],\n",
       "        [35, -1, -1, 33],\n",
       "        [36, 34, -1, 33],\n",
       "        [37, 35, -1, 33],\n",
       "        [38, 36, -1, 33],\n",
       "        [39, 37, -1, 33],\n",
       "        [40, 38, -1, 33],\n",
       "        [-1, 39, -1, 33],\n",
       "        [42, 33, -1, -1],\n",
       "        [-1, 41, -1, -1]]], dtype=int32)"
      ]
     },
     "execution_count": 42,
     "metadata": {},
     "output_type": "execute_result"
    }
   ],
   "source": [
    "hierarchy"
   ]
  },
  {
   "cell_type": "code",
   "execution_count": 43,
   "metadata": {},
   "outputs": [],
   "source": [
    "external_contours = np.zeros(img.shape)"
   ]
  },
  {
   "cell_type": "code",
   "execution_count": 44,
   "metadata": {},
   "outputs": [],
   "source": [
    "for i in range(len(contours)):\n",
    "    if hierarchy[0][i][3]==-1:\n",
    "        cv2.drawContours(external_contours,contours,i,255,-1)"
   ]
  },
  {
   "cell_type": "code",
   "execution_count": 45,
   "metadata": {},
   "outputs": [
    {
     "data": {
      "text/plain": [
       "<matplotlib.image.AxesImage at 0x7fb12810ca58>"
      ]
     },
     "execution_count": 45,
     "metadata": {},
     "output_type": "execute_result"
    },
    {
     "data": {
      "image/png": "[encoded data removed]",
      "text/plain": [
       "<Figure size 432x288 with 1 Axes>"
      ]
     },
     "metadata": {
      "needs_background": "light"
     },
     "output_type": "display_data"
    }
   ],
   "source": [
    "plt.imshow(external_contours,cmap='gray')"
   ]
  },
  {
   "cell_type": "code",
   "execution_count": 46,
   "metadata": {},
   "outputs": [],
   "source": [
    "internal_contours = np.zeros(img.shape)"
   ]
  },
  {
   "cell_type": "code",
   "execution_count": 47,
   "metadata": {},
   "outputs": [],
   "source": [
    "for i in range(len(contours)):\n",
    "    if hierarchy[0][i][3]!=-1:\n",
    "        cv2.drawContours(internal_contours,contours,i,255,-1)"
   ]
  },
  {
   "cell_type": "code",
   "execution_count": 48,
   "metadata": {},
   "outputs": [
    {
     "data": {
      "text/plain": [
       "<matplotlib.image.AxesImage at 0x7fb12686e908>"
      ]
     },
     "execution_count": 48,
     "metadata": {},
     "output_type": "execute_result"
    },
    {
     "data": {
      "image/png": "[encoded data removed]",
      "text/plain": [
       "<Figure size 432x288 with 1 Axes>"
      ]
     },
     "metadata": {
      "needs_background": "light"
     },
     "output_type": "display_data"
    }
   ],
   "source": [
    "plt.imshow(internal_contours,cmap='gray')"
   ]
  },
  {
   "cell_type": "code",
   "execution_count": 49,
   "metadata": {},
   "outputs": [
    {
     "data": {
      "text/plain": [
       "array([[[ 1, -1, -1, -1],\n",
       "        [ 2,  0, -1, -1],\n",
       "        [ 7,  1,  3, -1],\n",
       "        [ 4, -1, -1,  2],\n",
       "        [ 5,  3, -1,  2],\n",
       "        [ 6,  4, -1,  2],\n",
       "        [-1,  5, -1,  2],\n",
       "        [13,  2,  8, -1],\n",
       "        [ 9, -1, -1,  7],\n",
       "        [10,  8, -1,  7],\n",
       "        [11,  9, -1,  7],\n",
       "        [12, 10, -1,  7],\n",
       "        [-1, 11, -1,  7],\n",
       "        [20,  7, 14, -1],\n",
       "        [15, -1, -1, 13],\n",
       "        [16, 14, -1, 13],\n",
       "        [17, 15, -1, 13],\n",
       "        [18, 16, -1, 13],\n",
       "        [19, 17, -1, 13],\n",
       "        [-1, 18, -1, 13],\n",
       "        [26, 13, 21, -1],\n",
       "        [22, -1, -1, 20],\n",
       "        [23, 21, -1, 20],\n",
       "        [24, 22, -1, 20],\n",
       "        [25, 23, -1, 20],\n",
       "        [-1, 24, -1, 20],\n",
       "        [27, 20, -1, -1],\n",
       "        [28, 26, -1, -1],\n",
       "        [33, 27, 29, -1],\n",
       "        [30, -1, -1, 28],\n",
       "        [31, 29, -1, 28],\n",
       "        [32, 30, -1, 28],\n",
       "        [-1, 31, -1, 28],\n",
       "        [41, 28, 34, -1],\n",
       "        [35, -1, -1, 33],\n",
       "        [36, 34, -1, 33],\n",
       "        [37, 35, -1, 33],\n",
       "        [38, 36, -1, 33],\n",
       "        [39, 37, -1, 33],\n",
       "        [40, 38, -1, 33],\n",
       "        [-1, 39, -1, 33],\n",
       "        [42, 33, -1, -1],\n",
       "        [-1, 41, -1, -1]]], dtype=int32)"
      ]
     },
     "execution_count": 49,
     "metadata": {},
     "output_type": "execute_result"
    }
   ],
   "source": [
    "hierarchy"
   ]
  },
  {
   "cell_type": "code",
   "execution_count": 50,
   "metadata": {},
   "outputs": [],
   "source": [
    "black_image = np.zeros(img.shape)"
   ]
  },
  {
   "cell_type": "code",
   "execution_count": 51,
   "metadata": {},
   "outputs": [],
   "source": [
    "for i in range(len(contours)):\n",
    "    if hierarchy[0][i][3]==7:\n",
    "        cv2.drawContours(black_image,contours,i,255,-1)"
   ]
  },
  {
   "cell_type": "code",
   "execution_count": 53,
   "metadata": {},
   "outputs": [
    {
     "data": {
      "text/plain": [
       "<matplotlib.image.AxesImage at 0x7fb1266f2ef0>"
      ]
     },
     "execution_count": 53,
     "metadata": {},
     "output_type": "execute_result"
    },
    {
     "data": {
      "image/png": "[encoded data removed]",
      "text/plain": [
       "<Figure size 432x288 with 1 Axes>"
      ]
     },
     "metadata": {
      "needs_background": "light"
     },
     "output_type": "display_data"
    }
   ],
   "source": [
    "plt.imshow(black_image,cmap='gray')"
   ]
  },
  {
   "cell_type": "code",
   "execution_count": 54,
   "metadata": {},
   "outputs": [],
   "source": [
    "black_image = np.zeros(img.shape)"
   ]
  },
  {
   "cell_type": "code",
   "execution_count": 55,
   "metadata": {},
   "outputs": [],
   "source": [
    "for i in range(len(contours)):\n",
    "    if hierarchy[0][i][3]==33:\n",
    "        cv2.drawContours(black_image,contours,i,255,-1)"
   ]
  },
  {
   "cell_type": "code",
   "execution_count": 56,
   "metadata": {},
   "outputs": [
    {
     "data": {
      "text/plain": [
       "<matplotlib.image.AxesImage at 0x7fb126631eb8>"
      ]
     },
     "execution_count": 56,
     "metadata": {},
     "output_type": "execute_result"
    },
    {
     "data": {
      "image/png": "[encoded data removed]",
      "text/plain": [
       "<Figure size 432x288 with 1 Axes>"
      ]
     },
     "metadata": {
      "needs_background": "light"
     },
     "output_type": "display_data"
    }
   ],
   "source": [
    "plt.imshow(black_image,cmap='gray')"
   ]
  },
  {
   "cell_type": "code",
   "execution_count": null,
   "metadata": {},
   "outputs": [],
   "source": []
  }
 ],
 "metadata": {
  "kernelspec": {
   "display_name": "Python 3",
   "language": "python",
   "name": "python3"
  },
  "language_info": {
   "codemirror_mode": {
    "name": "ipython",
    "version": 3
   },
   "file_extension": ".py",
   "mimetype": "text/x-python",
   "name": "python",
   "nbconvert_exporter": "python",
   "pygments_lexer": "ipython3",
   "version": "3.7.3"
  }
 },
 "nbformat": 4,
 "nbformat_minor": 2
}
